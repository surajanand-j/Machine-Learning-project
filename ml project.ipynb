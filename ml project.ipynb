{
 "cells": [
  {
   "cell_type": "code",
   "execution_count": 1,
   "metadata": {},
   "outputs": [],
   "source": [
    "import pandas as pd\n",
    "import numpy as np"
   ]
  },
  {
   "cell_type": "code",
   "execution_count": 2,
   "metadata": {},
   "outputs": [],
   "source": [
    "fields=['Gender','Age','openness','neuroticism','conscientiousness','agreeableness','extraversion','Personality']"
   ]
  },
  {
   "cell_type": "code",
   "execution_count": 3,
   "metadata": {},
   "outputs": [],
   "source": [
    "fields_test=['Gender','Age','openness','neuroticism','conscientiousness','agreeableness','extraversion']"
   ]
  },
  {
   "cell_type": "code",
   "execution_count": 4,
   "metadata": {},
   "outputs": [],
   "source": [
    "fields_name=['names','nationality']"
   ]
  },
  {
   "cell_type": "code",
   "execution_count": 5,
   "metadata": {},
   "outputs": [],
   "source": [
    "fields_name_test=['names']"
   ]
  },
  {
   "cell_type": "code",
   "execution_count": 6,
   "metadata": {},
   "outputs": [],
   "source": [
    "dfr = pd.read_csv(r'C:\\Users\\HP\\Desktop\\FINAL_MINOR\\dataset_for_training.csv',skipinitialspace=True, usecols=fields_name)"
   ]
  },
  {
   "cell_type": "code",
   "execution_count": 7,
   "metadata": {},
   "outputs": [],
   "source": [
    "train =pd.read_csv(r'C:\\Users\\HP\\Desktop\\FINAL_MINOR\\dataset_for_training.csv',skipinitialspace=True, usecols=fields)\n",
    "array = train.values"
   ]
  },
  {
   "cell_type": "code",
   "execution_count": 8,
   "metadata": {},
   "outputs": [
    {
     "data": {
      "text/plain": [
       "array(['yiddish', 'gaelic', 'african', 'irish', 'hungarian', 'german',\n",
       "       'swedish', 'japanese', 'italian', 'american', 'hawaiian', 'greek',\n",
       "       'polynesian', 'korean', 'hebrew', 'chinese', 'polish', 'russian',\n",
       "       'hindi'], dtype=object)"
      ]
     },
     "execution_count": 8,
     "metadata": {},
     "output_type": "execute_result"
    }
   ],
   "source": [
    "dfr['nationality'].unique()"
   ]
  },
  {
   "cell_type": "code",
   "execution_count": 9,
   "metadata": {},
   "outputs": [
    {
     "data": {
      "text/html": [
       "<div>\n",
       "<style scoped>\n",
       "    .dataframe tbody tr th:only-of-type {\n",
       "        vertical-align: middle;\n",
       "    }\n",
       "\n",
       "    .dataframe tbody tr th {\n",
       "        vertical-align: top;\n",
       "    }\n",
       "\n",
       "    .dataframe thead th {\n",
       "        text-align: right;\n",
       "    }\n",
       "</style>\n",
       "<table border=\"1\" class=\"dataframe\">\n",
       "  <thead>\n",
       "    <tr style=\"text-align: right;\">\n",
       "      <th></th>\n",
       "      <th>Gender</th>\n",
       "      <th>Age</th>\n",
       "      <th>openness</th>\n",
       "      <th>neuroticism</th>\n",
       "      <th>conscientiousness</th>\n",
       "      <th>agreeableness</th>\n",
       "      <th>extraversion</th>\n",
       "      <th>Personality</th>\n",
       "    </tr>\n",
       "  </thead>\n",
       "  <tbody>\n",
       "    <tr>\n",
       "      <th>0</th>\n",
       "      <td>0</td>\n",
       "      <td>17</td>\n",
       "      <td>7</td>\n",
       "      <td>4</td>\n",
       "      <td>7</td>\n",
       "      <td>3</td>\n",
       "      <td>2</td>\n",
       "      <td>extraverted</td>\n",
       "    </tr>\n",
       "    <tr>\n",
       "      <th>1</th>\n",
       "      <td>0</td>\n",
       "      <td>19</td>\n",
       "      <td>4</td>\n",
       "      <td>5</td>\n",
       "      <td>4</td>\n",
       "      <td>6</td>\n",
       "      <td>6</td>\n",
       "      <td>serious</td>\n",
       "    </tr>\n",
       "    <tr>\n",
       "      <th>2</th>\n",
       "      <td>1</td>\n",
       "      <td>18</td>\n",
       "      <td>7</td>\n",
       "      <td>6</td>\n",
       "      <td>4</td>\n",
       "      <td>5</td>\n",
       "      <td>5</td>\n",
       "      <td>dependable</td>\n",
       "    </tr>\n",
       "    <tr>\n",
       "      <th>3</th>\n",
       "      <td>1</td>\n",
       "      <td>22</td>\n",
       "      <td>5</td>\n",
       "      <td>6</td>\n",
       "      <td>7</td>\n",
       "      <td>4</td>\n",
       "      <td>3</td>\n",
       "      <td>extraverted</td>\n",
       "    </tr>\n",
       "    <tr>\n",
       "      <th>4</th>\n",
       "      <td>1</td>\n",
       "      <td>19</td>\n",
       "      <td>7</td>\n",
       "      <td>4</td>\n",
       "      <td>6</td>\n",
       "      <td>5</td>\n",
       "      <td>4</td>\n",
       "      <td>lively</td>\n",
       "    </tr>\n",
       "    <tr>\n",
       "      <th>...</th>\n",
       "      <td>...</td>\n",
       "      <td>...</td>\n",
       "      <td>...</td>\n",
       "      <td>...</td>\n",
       "      <td>...</td>\n",
       "      <td>...</td>\n",
       "      <td>...</td>\n",
       "      <td>...</td>\n",
       "    </tr>\n",
       "    <tr>\n",
       "      <th>704</th>\n",
       "      <td>1</td>\n",
       "      <td>20</td>\n",
       "      <td>4</td>\n",
       "      <td>5</td>\n",
       "      <td>6</td>\n",
       "      <td>6</td>\n",
       "      <td>1</td>\n",
       "      <td>responsible</td>\n",
       "    </tr>\n",
       "    <tr>\n",
       "      <th>705</th>\n",
       "      <td>0</td>\n",
       "      <td>18</td>\n",
       "      <td>6</td>\n",
       "      <td>3</td>\n",
       "      <td>1</td>\n",
       "      <td>5</td>\n",
       "      <td>5</td>\n",
       "      <td>dependable</td>\n",
       "    </tr>\n",
       "    <tr>\n",
       "      <th>706</th>\n",
       "      <td>0</td>\n",
       "      <td>22</td>\n",
       "      <td>5</td>\n",
       "      <td>2</td>\n",
       "      <td>3</td>\n",
       "      <td>6</td>\n",
       "      <td>1</td>\n",
       "      <td>serious</td>\n",
       "    </tr>\n",
       "    <tr>\n",
       "      <th>707</th>\n",
       "      <td>0</td>\n",
       "      <td>19</td>\n",
       "      <td>5</td>\n",
       "      <td>6</td>\n",
       "      <td>5</td>\n",
       "      <td>7</td>\n",
       "      <td>5</td>\n",
       "      <td>extraverted</td>\n",
       "    </tr>\n",
       "    <tr>\n",
       "      <th>708</th>\n",
       "      <td>1</td>\n",
       "      <td>18</td>\n",
       "      <td>5</td>\n",
       "      <td>5</td>\n",
       "      <td>7</td>\n",
       "      <td>6</td>\n",
       "      <td>5</td>\n",
       "      <td>extraverted</td>\n",
       "    </tr>\n",
       "  </tbody>\n",
       "</table>\n",
       "<p>709 rows × 8 columns</p>\n",
       "</div>"
      ],
      "text/plain": [
       "     Gender  Age  openness  neuroticism  conscientiousness  agreeableness  \\\n",
       "0         0   17         7            4                  7              3   \n",
       "1         0   19         4            5                  4              6   \n",
       "2         1   18         7            6                  4              5   \n",
       "3         1   22         5            6                  7              4   \n",
       "4         1   19         7            4                  6              5   \n",
       "..      ...  ...       ...          ...                ...            ...   \n",
       "704       1   20         4            5                  6              6   \n",
       "705       0   18         6            3                  1              5   \n",
       "706       0   22         5            2                  3              6   \n",
       "707       0   19         5            6                  5              7   \n",
       "708       1   18         5            5                  7              6   \n",
       "\n",
       "     extraversion  Personality  \n",
       "0               2  extraverted  \n",
       "1               6      serious  \n",
       "2               5   dependable  \n",
       "3               3  extraverted  \n",
       "4               4       lively  \n",
       "..            ...          ...  \n",
       "704             1  responsible  \n",
       "705             5   dependable  \n",
       "706             1      serious  \n",
       "707             5  extraverted  \n",
       "708             5  extraverted  \n",
       "\n",
       "[709 rows x 8 columns]"
      ]
     },
     "execution_count": 9,
     "metadata": {},
     "output_type": "execute_result"
    }
   ],
   "source": [
    "train"
   ]
  },
  {
   "cell_type": "code",
   "execution_count": 10,
   "metadata": {},
   "outputs": [
    {
     "data": {
      "text/plain": [
       "array([[0, 17, 7, ..., 3, 2, 'extraverted'],\n",
       "       [0, 19, 4, ..., 6, 6, 'serious'],\n",
       "       [1, 18, 7, ..., 5, 5, 'dependable'],\n",
       "       ...,\n",
       "       [0, 22, 5, ..., 6, 1, 'serious'],\n",
       "       [0, 19, 5, ..., 7, 5, 'extraverted'],\n",
       "       [1, 18, 5, ..., 6, 5, 'extraverted']], dtype=object)"
      ]
     },
     "execution_count": 10,
     "metadata": {},
     "output_type": "execute_result"
    }
   ],
   "source": [
    "train.values"
   ]
  },
  {
   "cell_type": "code",
   "execution_count": 11,
   "metadata": {},
   "outputs": [
    {
     "data": {
      "text/html": [
       "<div>\n",
       "<style scoped>\n",
       "    .dataframe tbody tr th:only-of-type {\n",
       "        vertical-align: middle;\n",
       "    }\n",
       "\n",
       "    .dataframe tbody tr th {\n",
       "        vertical-align: top;\n",
       "    }\n",
       "\n",
       "    .dataframe thead th {\n",
       "        text-align: right;\n",
       "    }\n",
       "</style>\n",
       "<table border=\"1\" class=\"dataframe\">\n",
       "  <thead>\n",
       "    <tr style=\"text-align: right;\">\n",
       "      <th></th>\n",
       "      <th>names</th>\n",
       "      <th>nationality</th>\n",
       "    </tr>\n",
       "  </thead>\n",
       "  <tbody>\n",
       "    <tr>\n",
       "      <th>0</th>\n",
       "      <td>Gershon</td>\n",
       "      <td>yiddish</td>\n",
       "    </tr>\n",
       "    <tr>\n",
       "      <th>1</th>\n",
       "      <td>Lantz</td>\n",
       "      <td>yiddish</td>\n",
       "    </tr>\n",
       "    <tr>\n",
       "      <th>2</th>\n",
       "      <td>Zaide</td>\n",
       "      <td>yiddish</td>\n",
       "    </tr>\n",
       "    <tr>\n",
       "      <th>3</th>\n",
       "      <td>Zalman</td>\n",
       "      <td>yiddish</td>\n",
       "    </tr>\n",
       "    <tr>\n",
       "      <th>4</th>\n",
       "      <td>Zindel</td>\n",
       "      <td>yiddish</td>\n",
       "    </tr>\n",
       "    <tr>\n",
       "      <th>...</th>\n",
       "      <td>...</td>\n",
       "      <td>...</td>\n",
       "    </tr>\n",
       "    <tr>\n",
       "      <th>704</th>\n",
       "      <td>Aruna</td>\n",
       "      <td>hindi</td>\n",
       "    </tr>\n",
       "    <tr>\n",
       "      <th>705</th>\n",
       "      <td>Ayana</td>\n",
       "      <td>hindi</td>\n",
       "    </tr>\n",
       "    <tr>\n",
       "      <th>706</th>\n",
       "      <td>Basanti</td>\n",
       "      <td>hindi</td>\n",
       "    </tr>\n",
       "    <tr>\n",
       "      <th>707</th>\n",
       "      <td>Bharati</td>\n",
       "      <td>hindi</td>\n",
       "    </tr>\n",
       "    <tr>\n",
       "      <th>708</th>\n",
       "      <td>Bhuma</td>\n",
       "      <td>hindi</td>\n",
       "    </tr>\n",
       "  </tbody>\n",
       "</table>\n",
       "<p>709 rows × 2 columns</p>\n",
       "</div>"
      ],
      "text/plain": [
       "       names nationality\n",
       "0    Gershon     yiddish\n",
       "1      Lantz     yiddish\n",
       "2      Zaide     yiddish\n",
       "3     Zalman     yiddish\n",
       "4     Zindel     yiddish\n",
       "..       ...         ...\n",
       "704    Aruna       hindi\n",
       "705    Ayana       hindi\n",
       "706  Basanti       hindi\n",
       "707  Bharati       hindi\n",
       "708    Bhuma       hindi\n",
       "\n",
       "[709 rows x 2 columns]"
      ]
     },
     "execution_count": 11,
     "metadata": {},
     "output_type": "execute_result"
    }
   ],
   "source": [
    "dfr"
   ]
  },
  {
   "cell_type": "code",
   "execution_count": 12,
   "metadata": {},
   "outputs": [
    {
     "data": {
      "text/plain": [
       "array([['Gershon', 'yiddish'],\n",
       "       ['Lantz', 'yiddish'],\n",
       "       ['Zaide', 'yiddish'],\n",
       "       ...,\n",
       "       ['Basanti', 'hindi'],\n",
       "       ['Bharati', 'hindi'],\n",
       "       ['Bhuma', 'hindi']], dtype=object)"
      ]
     },
     "execution_count": 12,
     "metadata": {},
     "output_type": "execute_result"
    }
   ],
   "source": [
    "dfr.values"
   ]
  },
  {
   "cell_type": "code",
   "execution_count": 13,
   "metadata": {},
   "outputs": [
    {
     "data": {
      "text/plain": [
       "array(['extraverted', 'serious', 'dependable', 'lively', 'responsible'],\n",
       "      dtype=object)"
      ]
     },
     "execution_count": 13,
     "metadata": {},
     "output_type": "execute_result"
    }
   ],
   "source": [
    "train['Personality'].unique()"
   ]
  },
  {
   "cell_type": "code",
   "execution_count": 14,
   "metadata": {},
   "outputs": [],
   "source": [
    "import matplotlib.pyplot as plt\n",
    "%matplotlib inline"
   ]
  },
  {
   "cell_type": "code",
   "execution_count": 15,
   "metadata": {},
   "outputs": [
    {
     "data": {
      "text/plain": [
       "<matplotlib.axes._subplots.AxesSubplot at 0x150d7c8d880>"
      ]
     },
     "execution_count": 15,
     "metadata": {},
     "output_type": "execute_result"
    },
    {
     "data": {
      "image/png": "[encoded data removed]",
      "text/plain": [
       "<Figure size 1440x720 with 1 Axes>"
      ]
     },
     "metadata": {
      "needs_background": "light"
     },
     "output_type": "display_data"
    }
   ],
   "source": [
    "train.groupby('Personality')['Gender'].size().plot(kind='bar',figsize=(20,10))"
   ]
  },
  {
   "cell_type": "code",
   "execution_count": 16,
   "metadata": {},
   "outputs": [
    {
     "data": {
      "text/plain": [
       "<matplotlib.axes._subplots.AxesSubplot at 0x150d8811070>"
      ]
     },
     "execution_count": 16,
     "metadata": {},
     "output_type": "execute_result"
    },
    {
     "data": {
      "image/png": "[encoded data removed]",
      "text/plain": [
       "<Figure size 1440x720 with 1 Axes>"
      ]
     },
     "metadata": {
      "needs_background": "light"
     },
     "output_type": "display_data"
    }
   ],
   "source": [
    "dfr.groupby('nationality')['names'].size().plot(kind='bar',figsize=(20,10))"
   ]
  },
  {
   "cell_type": "code",
   "execution_count": 17,
   "metadata": {},
   "outputs": [
    {
     "data": {
      "text/plain": [
       "array([17, 19, 18, 22, 20, 27, 21, 28, 23, 25, 26, 24], dtype=int64)"
      ]
     },
     "execution_count": 17,
     "metadata": {},
     "output_type": "execute_result"
    }
   ],
   "source": [
    "train['Age'].unique()"
   ]
  },
  {
   "cell_type": "code",
   "execution_count": 18,
   "metadata": {},
   "outputs": [
    {
     "data": {
      "text/html": [
       "<div>\n",
       "<style scoped>\n",
       "    .dataframe tbody tr th:only-of-type {\n",
       "        vertical-align: middle;\n",
       "    }\n",
       "\n",
       "    .dataframe tbody tr th {\n",
       "        vertical-align: top;\n",
       "    }\n",
       "\n",
       "    .dataframe thead th {\n",
       "        text-align: right;\n",
       "    }\n",
       "</style>\n",
       "<table border=\"1\" class=\"dataframe\">\n",
       "  <thead>\n",
       "    <tr style=\"text-align: right;\">\n",
       "      <th></th>\n",
       "      <th>Gender</th>\n",
       "      <th>Age</th>\n",
       "      <th>openness</th>\n",
       "      <th>neuroticism</th>\n",
       "      <th>conscientiousness</th>\n",
       "      <th>agreeableness</th>\n",
       "      <th>extraversion</th>\n",
       "      <th>Personality</th>\n",
       "    </tr>\n",
       "  </thead>\n",
       "  <tbody>\n",
       "    <tr>\n",
       "      <th>0</th>\n",
       "      <td>0</td>\n",
       "      <td>17</td>\n",
       "      <td>7</td>\n",
       "      <td>4</td>\n",
       "      <td>7</td>\n",
       "      <td>3</td>\n",
       "      <td>2</td>\n",
       "      <td>extraverted</td>\n",
       "    </tr>\n",
       "    <tr>\n",
       "      <th>1</th>\n",
       "      <td>0</td>\n",
       "      <td>19</td>\n",
       "      <td>4</td>\n",
       "      <td>5</td>\n",
       "      <td>4</td>\n",
       "      <td>6</td>\n",
       "      <td>6</td>\n",
       "      <td>serious</td>\n",
       "    </tr>\n",
       "    <tr>\n",
       "      <th>2</th>\n",
       "      <td>1</td>\n",
       "      <td>18</td>\n",
       "      <td>7</td>\n",
       "      <td>6</td>\n",
       "      <td>4</td>\n",
       "      <td>5</td>\n",
       "      <td>5</td>\n",
       "      <td>dependable</td>\n",
       "    </tr>\n",
       "    <tr>\n",
       "      <th>3</th>\n",
       "      <td>1</td>\n",
       "      <td>22</td>\n",
       "      <td>5</td>\n",
       "      <td>6</td>\n",
       "      <td>7</td>\n",
       "      <td>4</td>\n",
       "      <td>3</td>\n",
       "      <td>extraverted</td>\n",
       "    </tr>\n",
       "    <tr>\n",
       "      <th>4</th>\n",
       "      <td>1</td>\n",
       "      <td>19</td>\n",
       "      <td>7</td>\n",
       "      <td>4</td>\n",
       "      <td>6</td>\n",
       "      <td>5</td>\n",
       "      <td>4</td>\n",
       "      <td>lively</td>\n",
       "    </tr>\n",
       "  </tbody>\n",
       "</table>\n",
       "</div>"
      ],
      "text/plain": [
       "   Gender  Age  openness  neuroticism  conscientiousness  agreeableness  \\\n",
       "0       0   17         7            4                  7              3   \n",
       "1       0   19         4            5                  4              6   \n",
       "2       1   18         7            6                  4              5   \n",
       "3       1   22         5            6                  7              4   \n",
       "4       1   19         7            4                  6              5   \n",
       "\n",
       "   extraversion  Personality  \n",
       "0             2  extraverted  \n",
       "1             6      serious  \n",
       "2             5   dependable  \n",
       "3             3  extraverted  \n",
       "4             4       lively  "
      ]
     },
     "execution_count": 18,
     "metadata": {},
     "output_type": "execute_result"
    }
   ],
   "source": [
    "train.head()"
   ]
  },
  {
   "cell_type": "code",
   "execution_count": 19,
   "metadata": {},
   "outputs": [
    {
     "data": {
      "text/html": [
       "<div>\n",
       "<style scoped>\n",
       "    .dataframe tbody tr th:only-of-type {\n",
       "        vertical-align: middle;\n",
       "    }\n",
       "\n",
       "    .dataframe tbody tr th {\n",
       "        vertical-align: top;\n",
       "    }\n",
       "\n",
       "    .dataframe thead th {\n",
       "        text-align: right;\n",
       "    }\n",
       "</style>\n",
       "<table border=\"1\" class=\"dataframe\">\n",
       "  <thead>\n",
       "    <tr style=\"text-align: right;\">\n",
       "      <th></th>\n",
       "      <th>names</th>\n",
       "      <th>nationality</th>\n",
       "    </tr>\n",
       "  </thead>\n",
       "  <tbody>\n",
       "    <tr>\n",
       "      <th>704</th>\n",
       "      <td>Aruna</td>\n",
       "      <td>hindi</td>\n",
       "    </tr>\n",
       "    <tr>\n",
       "      <th>705</th>\n",
       "      <td>Ayana</td>\n",
       "      <td>hindi</td>\n",
       "    </tr>\n",
       "    <tr>\n",
       "      <th>706</th>\n",
       "      <td>Basanti</td>\n",
       "      <td>hindi</td>\n",
       "    </tr>\n",
       "    <tr>\n",
       "      <th>707</th>\n",
       "      <td>Bharati</td>\n",
       "      <td>hindi</td>\n",
       "    </tr>\n",
       "    <tr>\n",
       "      <th>708</th>\n",
       "      <td>Bhuma</td>\n",
       "      <td>hindi</td>\n",
       "    </tr>\n",
       "  </tbody>\n",
       "</table>\n",
       "</div>"
      ],
      "text/plain": [
       "       names nationality\n",
       "704    Aruna       hindi\n",
       "705    Ayana       hindi\n",
       "706  Basanti       hindi\n",
       "707  Bharati       hindi\n",
       "708    Bhuma       hindi"
      ]
     },
     "execution_count": 19,
     "metadata": {},
     "output_type": "execute_result"
    }
   ],
   "source": [
    "dfr.tail()"
   ]
  },
  {
   "cell_type": "code",
   "execution_count": 20,
   "metadata": {},
   "outputs": [],
   "source": [
    "train_df=pd.DataFrame(array)"
   ]
  },
  {
   "cell_type": "code",
   "execution_count": 21,
   "metadata": {},
   "outputs": [
    {
     "data": {
      "text/plain": [
       "(709, 8)"
      ]
     },
     "execution_count": 21,
     "metadata": {},
     "output_type": "execute_result"
    }
   ],
   "source": [
    "train.shape"
   ]
  },
  {
   "cell_type": "code",
   "execution_count": 22,
   "metadata": {},
   "outputs": [
    {
     "data": {
      "text/plain": [
       "(709, 2)"
      ]
     },
     "execution_count": 22,
     "metadata": {},
     "output_type": "execute_result"
    }
   ],
   "source": [
    "dfr.shape"
   ]
  },
  {
   "cell_type": "code",
   "execution_count": 23,
   "metadata": {},
   "outputs": [
    {
     "name": "stdout",
     "output_type": "stream",
     "text": [
      "[[0 17 7 ... 7 3 2]\n",
      " [0 19 4 ... 4 6 6]\n",
      " [1 18 7 ... 4 5 5]\n",
      " ...\n",
      " [0 22 5 ... 3 6 1]\n",
      " [0 19 5 ... 5 7 5]\n",
      " [1 18 5 ... 7 6 5]]\n"
     ]
    }
   ],
   "source": [
    "maindf =train_df[[0,1,2,3,4,5,6]]\n",
    "mainarray=maindf.values\n",
    "print (mainarray)"
   ]
  },
  {
   "cell_type": "code",
   "execution_count": 24,
   "metadata": {},
   "outputs": [
    {
     "data": {
      "text/html": [
       "<div>\n",
       "<style scoped>\n",
       "    .dataframe tbody tr th:only-of-type {\n",
       "        vertical-align: middle;\n",
       "    }\n",
       "\n",
       "    .dataframe tbody tr th {\n",
       "        vertical-align: top;\n",
       "    }\n",
       "\n",
       "    .dataframe thead th {\n",
       "        text-align: right;\n",
       "    }\n",
       "</style>\n",
       "<table border=\"1\" class=\"dataframe\">\n",
       "  <thead>\n",
       "    <tr style=\"text-align: right;\">\n",
       "      <th></th>\n",
       "      <th>0</th>\n",
       "      <th>1</th>\n",
       "      <th>2</th>\n",
       "      <th>3</th>\n",
       "      <th>4</th>\n",
       "      <th>5</th>\n",
       "      <th>6</th>\n",
       "      <th>7</th>\n",
       "    </tr>\n",
       "  </thead>\n",
       "  <tbody>\n",
       "    <tr>\n",
       "      <th>0</th>\n",
       "      <td>0</td>\n",
       "      <td>17</td>\n",
       "      <td>7</td>\n",
       "      <td>4</td>\n",
       "      <td>7</td>\n",
       "      <td>3</td>\n",
       "      <td>2</td>\n",
       "      <td>extraverted</td>\n",
       "    </tr>\n",
       "    <tr>\n",
       "      <th>1</th>\n",
       "      <td>0</td>\n",
       "      <td>19</td>\n",
       "      <td>4</td>\n",
       "      <td>5</td>\n",
       "      <td>4</td>\n",
       "      <td>6</td>\n",
       "      <td>6</td>\n",
       "      <td>serious</td>\n",
       "    </tr>\n",
       "    <tr>\n",
       "      <th>2</th>\n",
       "      <td>1</td>\n",
       "      <td>18</td>\n",
       "      <td>7</td>\n",
       "      <td>6</td>\n",
       "      <td>4</td>\n",
       "      <td>5</td>\n",
       "      <td>5</td>\n",
       "      <td>dependable</td>\n",
       "    </tr>\n",
       "    <tr>\n",
       "      <th>3</th>\n",
       "      <td>1</td>\n",
       "      <td>22</td>\n",
       "      <td>5</td>\n",
       "      <td>6</td>\n",
       "      <td>7</td>\n",
       "      <td>4</td>\n",
       "      <td>3</td>\n",
       "      <td>extraverted</td>\n",
       "    </tr>\n",
       "    <tr>\n",
       "      <th>4</th>\n",
       "      <td>1</td>\n",
       "      <td>19</td>\n",
       "      <td>7</td>\n",
       "      <td>4</td>\n",
       "      <td>6</td>\n",
       "      <td>5</td>\n",
       "      <td>4</td>\n",
       "      <td>lively</td>\n",
       "    </tr>\n",
       "  </tbody>\n",
       "</table>\n",
       "</div>"
      ],
      "text/plain": [
       "   0   1  2  3  4  5  6            7\n",
       "0  0  17  7  4  7  3  2  extraverted\n",
       "1  0  19  4  5  4  6  6      serious\n",
       "2  1  18  7  6  4  5  5   dependable\n",
       "3  1  22  5  6  7  4  3  extraverted\n",
       "4  1  19  7  4  6  5  4       lively"
      ]
     },
     "execution_count": 24,
     "metadata": {},
     "output_type": "execute_result"
    }
   ],
   "source": [
    "train_df.head()"
   ]
  },
  {
   "cell_type": "code",
   "execution_count": 25,
   "metadata": {},
   "outputs": [
    {
     "name": "stdout",
     "output_type": "stream",
     "text": [
      "<class 'pandas.core.frame.DataFrame'>\n",
      "RangeIndex: 709 entries, 0 to 708\n",
      "Data columns (total 8 columns):\n",
      " #   Column  Non-Null Count  Dtype \n",
      "---  ------  --------------  ----- \n",
      " 0   0       709 non-null    object\n",
      " 1   1       709 non-null    object\n",
      " 2   2       709 non-null    object\n",
      " 3   3       709 non-null    object\n",
      " 4   4       709 non-null    object\n",
      " 5   5       709 non-null    object\n",
      " 6   6       709 non-null    object\n",
      " 7   7       709 non-null    object\n",
      "dtypes: object(8)\n",
      "memory usage: 44.4+ KB\n"
     ]
    }
   ],
   "source": [
    "train_df.info()"
   ]
  },
  {
   "cell_type": "code",
   "execution_count": 26,
   "metadata": {},
   "outputs": [
    {
     "name": "stdout",
     "output_type": "stream",
     "text": [
      "<class 'pandas.core.frame.DataFrame'>\n",
      "RangeIndex: 709 entries, 0 to 708\n",
      "Data columns (total 2 columns):\n",
      " #   Column       Non-Null Count  Dtype \n",
      "---  ------       --------------  ----- \n",
      " 0   names        709 non-null    object\n",
      " 1   nationality  709 non-null    object\n",
      "dtypes: object(2)\n",
      "memory usage: 11.2+ KB\n"
     ]
    }
   ],
   "source": [
    "dfr.info()"
   ]
  },
  {
   "cell_type": "code",
   "execution_count": 27,
   "metadata": {},
   "outputs": [
    {
     "data": {
      "text/html": [
       "<div>\n",
       "<style scoped>\n",
       "    .dataframe tbody tr th:only-of-type {\n",
       "        vertical-align: middle;\n",
       "    }\n",
       "\n",
       "    .dataframe tbody tr th {\n",
       "        vertical-align: top;\n",
       "    }\n",
       "\n",
       "    .dataframe thead th {\n",
       "        text-align: right;\n",
       "    }\n",
       "</style>\n",
       "<table border=\"1\" class=\"dataframe\">\n",
       "  <thead>\n",
       "    <tr style=\"text-align: right;\">\n",
       "      <th></th>\n",
       "      <th>names</th>\n",
       "      <th>nationality</th>\n",
       "    </tr>\n",
       "  </thead>\n",
       "  <tbody>\n",
       "    <tr>\n",
       "      <th>count</th>\n",
       "      <td>709</td>\n",
       "      <td>709</td>\n",
       "    </tr>\n",
       "    <tr>\n",
       "      <th>unique</th>\n",
       "      <td>690</td>\n",
       "      <td>19</td>\n",
       "    </tr>\n",
       "    <tr>\n",
       "      <th>top</th>\n",
       "      <td>Aulii</td>\n",
       "      <td>american</td>\n",
       "    </tr>\n",
       "    <tr>\n",
       "      <th>freq</th>\n",
       "      <td>2</td>\n",
       "      <td>86</td>\n",
       "    </tr>\n",
       "  </tbody>\n",
       "</table>\n",
       "</div>"
      ],
      "text/plain": [
       "        names nationality\n",
       "count     709         709\n",
       "unique    690          19\n",
       "top     Aulii    american\n",
       "freq        2          86"
      ]
     },
     "execution_count": 27,
     "metadata": {},
     "output_type": "execute_result"
    }
   ],
   "source": [
    "dfr.describe()"
   ]
  },
  {
   "cell_type": "code",
   "execution_count": 28,
   "metadata": {},
   "outputs": [
    {
     "data": {
      "text/plain": [
       "<bound method DataFrame.sum of          0      1      2      3      4      5      6      7\n",
       "0    False  False  False  False  False  False  False  False\n",
       "1    False  False  False  False  False  False  False  False\n",
       "2    False  False  False  False  False  False  False  False\n",
       "3    False  False  False  False  False  False  False  False\n",
       "4    False  False  False  False  False  False  False  False\n",
       "..     ...    ...    ...    ...    ...    ...    ...    ...\n",
       "704  False  False  False  False  False  False  False  False\n",
       "705  False  False  False  False  False  False  False  False\n",
       "706  False  False  False  False  False  False  False  False\n",
       "707  False  False  False  False  False  False  False  False\n",
       "708  False  False  False  False  False  False  False  False\n",
       "\n",
       "[709 rows x 8 columns]>"
      ]
     },
     "execution_count": 28,
     "metadata": {},
     "output_type": "execute_result"
    }
   ],
   "source": [
    "train_df.isnull().sum\n"
   ]
  },
  {
   "cell_type": "code",
   "execution_count": 29,
   "metadata": {},
   "outputs": [
    {
     "data": {
      "text/plain": [
       "<bound method DataFrame.sum of      names  nationality\n",
       "0    False        False\n",
       "1    False        False\n",
       "2    False        False\n",
       "3    False        False\n",
       "4    False        False\n",
       "..     ...          ...\n",
       "704  False        False\n",
       "705  False        False\n",
       "706  False        False\n",
       "707  False        False\n",
       "708  False        False\n",
       "\n",
       "[709 rows x 2 columns]>"
      ]
     },
     "execution_count": 29,
     "metadata": {},
     "output_type": "execute_result"
    }
   ],
   "source": [
    "dfr.isnull().sum"
   ]
  },
  {
   "cell_type": "code",
   "execution_count": 30,
   "metadata": {},
   "outputs": [
    {
     "name": "stdout",
     "output_type": "stream",
     "text": [
      "0      extraverted\n",
      "1          serious\n",
      "2       dependable\n",
      "3      extraverted\n",
      "4           lively\n",
      "          ...     \n",
      "704    responsible\n",
      "705     dependable\n",
      "706        serious\n",
      "707    extraverted\n",
      "708    extraverted\n",
      "Name: 7, Length: 709, dtype: object\n"
     ]
    }
   ],
   "source": [
    "temp=train_df[7]\n",
    "train_y =temp.values\n",
    "print(temp)"
   ]
  },
  {
   "cell_type": "code",
   "execution_count": null,
   "metadata": {},
   "outputs": [],
   "source": []
  },
  {
   "cell_type": "code",
   "execution_count": 31,
   "metadata": {},
   "outputs": [],
   "source": [
    "from sklearn import  linear_model\n",
    "from sklearn.linear_model import LogisticRegression"
   ]
  },
  {
   "cell_type": "code",
   "execution_count": 32,
   "metadata": {},
   "outputs": [
    {
     "data": {
      "text/plain": [
       "LogisticRegression(max_iter=1000, multi_class='multinomial', solver='newton-cg')"
      ]
     },
     "execution_count": 32,
     "metadata": {},
     "output_type": "execute_result"
    }
   ],
   "source": [
    "mul_lr = linear_model.LogisticRegression(multi_class='multinomial', solver='newton-cg',max_iter =1000)\n",
    "mul_lr.fit(mainarray, train_y)"
   ]
  },
  {
   "cell_type": "code",
   "execution_count": 33,
   "metadata": {},
   "outputs": [],
   "source": [
    "Xfeatures = dfr['names']\n",
    "ylabels= dfr['nationality']"
   ]
  },
  {
   "cell_type": "code",
   "execution_count": 34,
   "metadata": {},
   "outputs": [],
   "source": [
    "from sklearn.feature_extraction.text import CountVectorizer"
   ]
  },
  {
   "cell_type": "code",
   "execution_count": 35,
   "metadata": {},
   "outputs": [],
   "source": [
    "cv = CountVectorizer()\n",
    "X = cv.fit_transform(Xfeatures)"
   ]
  },
  {
   "cell_type": "code",
   "execution_count": 36,
   "metadata": {},
   "outputs": [
    {
     "data": {
      "text/plain": [
       "['aaron',\n",
       " 'aba',\n",
       " 'aban',\n",
       " 'abbas',\n",
       " 'abdiel',\n",
       " 'abel',\n",
       " 'abelard',\n",
       " 'abeni',\n",
       " 'abhijit',\n",
       " 'abiba',\n",
       " 'abijah',\n",
       " 'abmaba',\n",
       " 'abner',\n",
       " 'abraham',\n",
       " 'abrahsa',\n",
       " 'abriana',\n",
       " 'absolom',\n",
       " 'acacio',\n",
       " 'achilles',\n",
       " 'acura',\n",
       " 'adalai',\n",
       " 'adam',\n",
       " 'adan',\n",
       " 'adar',\n",
       " 'adare',\n",
       " 'addai',\n",
       " 'adie',\n",
       " 'adin',\n",
       " 'adler',\n",
       " 'adolph',\n",
       " 'adonis',\n",
       " 'adrian',\n",
       " 'aeary',\n",
       " 'afram',\n",
       " 'agamemnon',\n",
       " 'agatho',\n",
       " 'aissa',\n",
       " 'ajax',\n",
       " 'ajua',\n",
       " 'akamu',\n",
       " 'akelah',\n",
       " 'akira',\n",
       " 'akosua',\n",
       " 'alam',\n",
       " 'alan',\n",
       " 'alana',\n",
       " 'alaric',\n",
       " 'albert',\n",
       " 'albrecht',\n",
       " 'alcander',\n",
       " 'alcibiades',\n",
       " 'alexander',\n",
       " 'alexandrite',\n",
       " 'alger',\n",
       " 'aloani',\n",
       " 'aloha',\n",
       " 'alohi',\n",
       " 'alona',\n",
       " 'altair',\n",
       " 'amar',\n",
       " 'ambrose',\n",
       " 'amedeo',\n",
       " 'amerigo',\n",
       " 'amit',\n",
       " 'an',\n",
       " 'anacletus',\n",
       " 'analu',\n",
       " 'anani',\n",
       " 'anastasius',\n",
       " 'anatole',\n",
       " 'ancel',\n",
       " 'anderson',\n",
       " 'andrew',\n",
       " 'andromeda',\n",
       " 'angel',\n",
       " 'angus',\n",
       " 'anker',\n",
       " 'anstice',\n",
       " 'antenor',\n",
       " 'anthony',\n",
       " 'antigonus',\n",
       " 'anya',\n",
       " 'apollo',\n",
       " 'apostolos',\n",
       " 'apple',\n",
       " 'arali',\n",
       " 'archelaus',\n",
       " 'archimedes',\n",
       " 'ares',\n",
       " 'aretino',\n",
       " 'argus',\n",
       " 'arion',\n",
       " 'aristide',\n",
       " 'arland',\n",
       " 'armand',\n",
       " 'armani',\n",
       " 'arnold',\n",
       " 'arrigo',\n",
       " 'arsenio',\n",
       " 'aruna',\n",
       " 'arziki',\n",
       " 'asha',\n",
       " 'ashanti',\n",
       " 'asmodel',\n",
       " 'aster',\n",
       " 'athan',\n",
       " 'athanasios',\n",
       " 'athos',\n",
       " 'atilla',\n",
       " 'atlanta',\n",
       " 'atlas',\n",
       " 'attilio',\n",
       " 'audio',\n",
       " 'aulii',\n",
       " 'autolocus',\n",
       " 'avel',\n",
       " 'avicus',\n",
       " 'avonmore',\n",
       " 'axel',\n",
       " 'ayana',\n",
       " 'baako',\n",
       " 'babyface',\n",
       " 'badal',\n",
       " 'bain',\n",
       " 'bairre',\n",
       " 'bala',\n",
       " 'balder',\n",
       " 'baldwin',\n",
       " 'ballinamore',\n",
       " 'baltasar',\n",
       " 'bambi',\n",
       " 'banagher',\n",
       " 'bane',\n",
       " 'banji',\n",
       " 'banjo',\n",
       " 'banko',\n",
       " 'banzan',\n",
       " 'baptiste',\n",
       " 'baron',\n",
       " 'barry',\n",
       " 'basanti',\n",
       " 'basil',\n",
       " 'bassui',\n",
       " 'bates',\n",
       " 'beacan',\n",
       " 'beck',\n",
       " 'bemus',\n",
       " 'benen',\n",
       " 'benjiro',\n",
       " 'benvenuto',\n",
       " 'bergen',\n",
       " 'bernard',\n",
       " 'bernstein',\n",
       " 'bertram',\n",
       " 'bevin',\n",
       " 'beyonce',\n",
       " 'bharati',\n",
       " 'bhuma',\n",
       " 'bianca',\n",
       " 'bing',\n",
       " 'bingham',\n",
       " 'biondello',\n",
       " 'bisa',\n",
       " 'bishop',\n",
       " 'blaan',\n",
       " 'blaine',\n",
       " 'blair',\n",
       " 'blaze',\n",
       " 'blue',\n",
       " 'bogart',\n",
       " 'bohdana',\n",
       " 'bono',\n",
       " 'borachio',\n",
       " 'boris',\n",
       " 'boston',\n",
       " 'botan',\n",
       " 'boyd',\n",
       " 'braden',\n",
       " 'bram',\n",
       " 'brandeis',\n",
       " 'brandie',\n",
       " 'braulio',\n",
       " 'brett',\n",
       " 'brian',\n",
       " 'bronson',\n",
       " 'bronze',\n",
       " 'bruna',\n",
       " 'bud',\n",
       " 'bukka',\n",
       " 'burke',\n",
       " 'burle',\n",
       " 'burr',\n",
       " 'butch',\n",
       " 'buzz',\n",
       " 'cacey',\n",
       " 'cady',\n",
       " 'caedmon',\n",
       " 'caelan',\n",
       " 'caesar',\n",
       " 'cajetan',\n",
       " 'calder',\n",
       " 'calhoun',\n",
       " 'camera',\n",
       " 'caprice',\n",
       " 'cara',\n",
       " 'carin',\n",
       " 'carlotta',\n",
       " 'carmelo',\n",
       " 'carmine',\n",
       " 'carsten',\n",
       " 'cassietta',\n",
       " 'catava',\n",
       " 'celesto',\n",
       " 'cerek',\n",
       " 'cettina',\n",
       " 'chandra',\n",
       " 'chao',\n",
       " 'chata',\n",
       " 'chen',\n",
       " 'chiamaka',\n",
       " 'chike',\n",
       " 'chimon',\n",
       " 'chipo',\n",
       " 'cho',\n",
       " 'chon',\n",
       " 'chotan',\n",
       " 'chung',\n",
       " 'cirrillo',\n",
       " 'clay',\n",
       " 'cleotha',\n",
       " 'clovis',\n",
       " 'cola',\n",
       " 'colbert',\n",
       " 'conan',\n",
       " 'confucius',\n",
       " 'cong',\n",
       " 'constanzo',\n",
       " 'contessa',\n",
       " 'coolio',\n",
       " 'corrado',\n",
       " 'corvette',\n",
       " 'cricket',\n",
       " 'cyzarine',\n",
       " 'daeshim',\n",
       " 'dagobert',\n",
       " 'dai',\n",
       " 'daido',\n",
       " 'dakarai',\n",
       " 'dalbert',\n",
       " 'dale',\n",
       " 'dannon',\n",
       " 'darena',\n",
       " 'dattatreya',\n",
       " 'day',\n",
       " 'deandre',\n",
       " 'dee',\n",
       " 'deepak',\n",
       " 'deion',\n",
       " 'deiondre',\n",
       " 'deka',\n",
       " 'dele',\n",
       " 'delmonte',\n",
       " 'delu',\n",
       " 'demarco',\n",
       " 'dembe',\n",
       " 'denzel',\n",
       " 'derek',\n",
       " 'dericia',\n",
       " 'deshi',\n",
       " 'deusdedit',\n",
       " 'dewayne',\n",
       " 'dewei',\n",
       " 'dewitt',\n",
       " 'dezso',\n",
       " 'diallo',\n",
       " 'dian',\n",
       " 'diara',\n",
       " 'dieter',\n",
       " 'dietrich',\n",
       " 'dikembe',\n",
       " 'dimaia',\n",
       " 'disney',\n",
       " 'dixie',\n",
       " 'dobry',\n",
       " 'dolf',\n",
       " 'doli',\n",
       " 'domani',\n",
       " 'donatella',\n",
       " 'donato',\n",
       " 'donus',\n",
       " 'dorjan',\n",
       " 'doryo',\n",
       " 'drake',\n",
       " 'draylan',\n",
       " 'droe',\n",
       " 'duante',\n",
       " 'dume',\n",
       " 'durango',\n",
       " 'duras',\n",
       " 'dusan',\n",
       " 'dusana',\n",
       " 'dutch',\n",
       " 'dwalin',\n",
       " 'easter',\n",
       " 'eberhard',\n",
       " 'ebi',\n",
       " 'edena',\n",
       " 'edsel',\n",
       " 'egor',\n",
       " 'eilis',\n",
       " 'eminem',\n",
       " 'engu',\n",
       " 'enki',\n",
       " 'enmei',\n",
       " 'eowyn',\n",
       " 'eriberto',\n",
       " 'ermanno',\n",
       " 'ervin',\n",
       " 'eryu',\n",
       " 'espn',\n",
       " 'essien',\n",
       " 'eternity',\n",
       " 'ettore',\n",
       " 'fabiana',\n",
       " 'fagan',\n",
       " 'falito',\n",
       " 'faraji',\n",
       " 'february',\n",
       " 'feodora',\n",
       " 'feodore',\n",
       " 'fiolla',\n",
       " 'fiorella',\n",
       " 'fiorello',\n",
       " 'fiske',\n",
       " 'flavio',\n",
       " 'fleance',\n",
       " 'floritzel',\n",
       " 'fo',\n",
       " 'fortino',\n",
       " 'fu',\n",
       " 'fudoki',\n",
       " 'fujita',\n",
       " 'fyodor',\n",
       " 'gaeriel',\n",
       " 'galileo',\n",
       " 'gan',\n",
       " 'gao',\n",
       " 'gavrie',\n",
       " 'gedeon',\n",
       " 'geena',\n",
       " 'genjo',\n",
       " 'genko',\n",
       " 'genovese',\n",
       " 'gentle',\n",
       " 'gerik',\n",
       " 'gershon',\n",
       " 'gerson',\n",
       " 'giancarlo',\n",
       " 'gianni',\n",
       " 'gino',\n",
       " 'gioacchino',\n",
       " 'giovanni',\n",
       " 'gleb',\n",
       " 'goro',\n",
       " 'gratiano',\n",
       " 'gustave',\n",
       " 'hai',\n",
       " 'haimi',\n",
       " 'hakaku',\n",
       " 'hamaliel',\n",
       " 'harlem',\n",
       " 'haru',\n",
       " 'havika',\n",
       " 'heavenly',\n",
       " 'hideaki',\n",
       " 'hiromasa',\n",
       " 'hiroshi',\n",
       " 'hisoka',\n",
       " 'ho',\n",
       " 'honorius',\n",
       " 'hopper',\n",
       " 'hormisdas',\n",
       " 'hortensio',\n",
       " 'hoshi',\n",
       " 'hovie',\n",
       " 'hsin',\n",
       " 'hsing',\n",
       " 'huang',\n",
       " 'hui',\n",
       " 'huik',\n",
       " 'hulk',\n",
       " 'iachima',\n",
       " 'ibeamaka',\n",
       " 'iesha',\n",
       " 'in',\n",
       " 'indro',\n",
       " 'iolana',\n",
       " 'itsu',\n",
       " 'ivan',\n",
       " 'ja',\n",
       " 'jace',\n",
       " 'jacek',\n",
       " 'jae',\n",
       " 'jakki',\n",
       " 'jamar',\n",
       " 'jarek',\n",
       " 'jaxon',\n",
       " 'jay',\n",
       " 'jayvyn',\n",
       " 'jazz',\n",
       " 'jeeves',\n",
       " 'jelena',\n",
       " 'jevonte',\n",
       " 'jiang',\n",
       " 'jikai',\n",
       " 'jin',\n",
       " 'jing',\n",
       " 'jintao',\n",
       " 'jiro',\n",
       " 'jiryu',\n",
       " 'jo',\n",
       " 'joben',\n",
       " 'jody',\n",
       " 'joey',\n",
       " 'joji',\n",
       " 'jojo',\n",
       " 'joni',\n",
       " 'juice',\n",
       " 'jun',\n",
       " 'kabonero',\n",
       " 'kabonesa',\n",
       " 'kacy',\n",
       " 'kada',\n",
       " 'kade',\n",
       " 'kadeem',\n",
       " 'kaden',\n",
       " 'kadi',\n",
       " 'kadie',\n",
       " 'kaelyn',\n",
       " 'kahale',\n",
       " 'kahanu',\n",
       " 'kahoku',\n",
       " 'kaholo',\n",
       " 'kai',\n",
       " 'kaikeapona',\n",
       " 'kailani',\n",
       " 'kailey',\n",
       " 'kaili',\n",
       " 'kaimi',\n",
       " 'kaipo',\n",
       " 'kalama',\n",
       " 'kalani',\n",
       " 'kale',\n",
       " 'kaleb',\n",
       " 'kalei',\n",
       " 'kalena',\n",
       " 'kalene',\n",
       " 'kaleo',\n",
       " 'kalepa',\n",
       " 'kalman',\n",
       " 'kamon',\n",
       " 'kana',\n",
       " 'kance',\n",
       " 'kane',\n",
       " 'kanoa',\n",
       " 'kaper',\n",
       " 'kaplony',\n",
       " 'kapolcs',\n",
       " 'kapono',\n",
       " 'kardos',\n",
       " 'karsa',\n",
       " 'kartal',\n",
       " 'kasi',\n",
       " 'kateo',\n",
       " 'keahi',\n",
       " 'keaira',\n",
       " 'keandre',\n",
       " 'keanu',\n",
       " 'keefe',\n",
       " 'keegan',\n",
       " 'keeland',\n",
       " 'keelty',\n",
       " 'keely',\n",
       " 'keen',\n",
       " 'keenan',\n",
       " 'keitha',\n",
       " 'kekoa',\n",
       " 'keled',\n",
       " 'keleman',\n",
       " 'kelii',\n",
       " 'kellan',\n",
       " 'kemenes',\n",
       " 'kende',\n",
       " 'kendis',\n",
       " 'kennedy',\n",
       " 'kennis',\n",
       " 'kentay',\n",
       " 'kenyon',\n",
       " 'keona',\n",
       " 'kepano',\n",
       " 'kerecsen',\n",
       " 'kermit',\n",
       " 'kern',\n",
       " 'kerry',\n",
       " 'keshawn',\n",
       " 'ketchum',\n",
       " 'keve',\n",
       " 'kevin',\n",
       " 'kevina',\n",
       " 'khalon',\n",
       " 'khambrel',\n",
       " 'kieran',\n",
       " 'killian',\n",
       " 'kinga',\n",
       " 'kinnel',\n",
       " 'kisa',\n",
       " 'kiska',\n",
       " 'kix',\n",
       " 'kofi',\n",
       " 'kolos',\n",
       " 'konala',\n",
       " 'kong',\n",
       " 'konstantin',\n",
       " 'kont',\n",
       " 'koshy',\n",
       " 'kostas',\n",
       " 'koster',\n",
       " 'kostya',\n",
       " 'kund',\n",
       " 'kwamin',\n",
       " 'kwau',\n",
       " 'kyan',\n",
       " 'kyla',\n",
       " 'kyna',\n",
       " 'kyrone',\n",
       " 'kyzer',\n",
       " 'la',\n",
       " 'laakea',\n",
       " 'laborc',\n",
       " 'lado',\n",
       " 'ladomér',\n",
       " 'lafe',\n",
       " 'laionela',\n",
       " 'laken',\n",
       " 'lakista',\n",
       " 'lakyle',\n",
       " 'lamech',\n",
       " 'lando',\n",
       " 'lantos',\n",
       " 'lantz',\n",
       " 'lao',\n",
       " 'lariat',\n",
       " 'larnell',\n",
       " 'lassiter',\n",
       " 'lauaki',\n",
       " 'lavaughn',\n",
       " 'lawler',\n",
       " 'lebron',\n",
       " 'lech',\n",
       " 'lee',\n",
       " 'leena',\n",
       " 'lehel',\n",
       " 'lennon',\n",
       " 'lenya',\n",
       " 'lesta',\n",
       " 'levente',\n",
       " 'lida',\n",
       " 'lipót',\n",
       " 'lisiate',\n",
       " 'lisimba',\n",
       " 'loe',\n",
       " 'lombardi',\n",
       " 'lon',\n",
       " 'lono',\n",
       " 'loránd',\n",
       " 'luba',\n",
       " 'ludacris',\n",
       " 'ludoslaw',\n",
       " 'lugono',\n",
       " 'luister',\n",
       " 'lulani',\n",
       " 'lászló',\n",
       " 'lél',\n",
       " 'lõrinc',\n",
       " 'mab',\n",
       " 'mackenzie',\n",
       " 'maeryn',\n",
       " 'magar',\n",
       " 'magnar',\n",
       " 'maik',\n",
       " 'maille',\n",
       " 'makaio',\n",
       " 'makan',\n",
       " 'maksim',\n",
       " 'malo',\n",
       " 'mandek',\n",
       " 'manu',\n",
       " 'marcin',\n",
       " 'marco',\n",
       " 'marek',\n",
       " 'mariano',\n",
       " 'marinka',\n",
       " 'martino',\n",
       " 'massimo',\n",
       " 'mauli',\n",
       " 'maurizio',\n",
       " 'maury',\n",
       " 'medárd',\n",
       " 'megyer',\n",
       " 'meka',\n",
       " 'menyhért',\n",
       " 'mika',\n",
       " 'mikhail',\n",
       " 'miksa',\n",
       " 'mila',\n",
       " 'miloslav',\n",
       " 'milán',\n",
       " 'misha',\n",
       " 'moke',\n",
       " 'mór',\n",
       " 'nadie',\n",
       " 'nahele',\n",
       " 'nalani',\n",
       " 'neal',\n",
       " 'nelek',\n",
       " 'nickita',\n",
       " 'nika',\n",
       " 'nikhil',\n",
       " 'nyék',\n",
       " 'nándor',\n",
       " 'okalani',\n",
       " 'oke',\n",
       " 'okelani',\n",
       " 'oksana',\n",
       " 'olesia',\n",
       " 'olga',\n",
       " 'oliana',\n",
       " 'olien',\n",
       " 'onaona',\n",
       " 'palani',\n",
       " 'parlan',\n",
       " 'per',\n",
       " 'phelan',\n",
       " 'raissa',\n",
       " 'regan',\n",
       " 'renny',\n",
       " 'riley',\n",
       " 'riordan',\n",
       " 'rogan',\n",
       " 'rooney',\n",
       " 'rory',\n",
       " 'ryan',\n",
       " 'ryzard',\n",
       " 'sacha',\n",
       " 'sarkis',\n",
       " 'sashenka',\n",
       " 'savina',\n",
       " 'seamus',\n",
       " 'semyon',\n",
       " 'senach',\n",
       " 'sergei',\n",
       " 'seung',\n",
       " 'sezja',\n",
       " 'sheehan',\n",
       " 'slevin',\n",
       " 'sloan',\n",
       " 'sonia',\n",
       " 'sullivan',\n",
       " 'sully',\n",
       " 'sun',\n",
       " 'sweeny',\n",
       " 'tanek',\n",
       " 'tee',\n",
       " 'timur',\n",
       " 'tzu',\n",
       " 'uhila',\n",
       " 'ulan',\n",
       " 'ulani',\n",
       " 'urjasz',\n",
       " 'ustin',\n",
       " 'vadim',\n",
       " 'valeri',\n",
       " 'valerian',\n",
       " 'vanya',\n",
       " 'venedict',\n",
       " 'vladilen',\n",
       " 'vlas',\n",
       " 'vonn',\n",
       " 'wassily',\n",
       " 'xenik',\n",
       " 'yerik',\n",
       " 'yevgeni',\n",
       " 'yong',\n",
       " 'young',\n",
       " 'yurchik',\n",
       " 'yuri',\n",
       " 'zaide',\n",
       " 'zalman',\n",
       " 'zindel']"
      ]
     },
     "execution_count": 36,
     "metadata": {},
     "output_type": "execute_result"
    }
   ],
   "source": [
    "cv.get_feature_names()"
   ]
  },
  {
   "cell_type": "code",
   "execution_count": 37,
   "metadata": {},
   "outputs": [
    {
     "name": "stdout",
     "output_type": "stream",
     "text": [
      "  (0, 355)\t1\n",
      "  (1, 549)\t1\n",
      "  (2, 696)\t1\n",
      "  (3, 697)\t1\n",
      "  (4, 698)\t1\n",
      "  (5, 186)\t1\n",
      "  (6, 532)\t1\n",
      "  (7, 44)\t1\n",
      "  (8, 75)\t1\n",
      "  (9, 164)\t1\n",
      "  (10, 233)\t1\n",
      "  (11, 324)\t1\n",
      "  (12, 433)\t1\n",
      "  (13, 478)\t1\n",
      "  (14, 479)\t1\n",
      "  (15, 480)\t1\n",
      "  (16, 484)\t1\n",
      "  (17, 494)\t1\n",
      "  (18, 497)\t1\n",
      "  (19, 501)\t1\n",
      "  (20, 502)\t1\n",
      "  (21, 503)\t1\n",
      "  (22, 507)\t1\n",
      "  (23, 511)\t1\n",
      "  (24, 514)\t1\n",
      "  :\t:\n",
      "  (684, 620)\t1\n",
      "  (685, 625)\t1\n",
      "  (686, 626)\t1\n",
      "  (687, 633)\t1\n",
      "  (688, 635)\t1\n",
      "  (689, 637)\t1\n",
      "  (690, 643)\t1\n",
      "  (691, 655)\t1\n",
      "  (692, 656)\t1\n",
      "  (693, 662)\t1\n",
      "  (694, 666)\t1\n",
      "  (695, 8)\t1\n",
      "  (696, 43)\t1\n",
      "  (697, 63)\t1\n",
      "  (698, 122)\t1\n",
      "  (699, 125)\t1\n",
      "  (700, 188)\t1\n",
      "  (701, 215)\t1\n",
      "  (702, 252)\t1\n",
      "  (703, 256)\t1\n",
      "  (704, 99)\t1\n",
      "  (705, 119)\t1\n",
      "  (706, 140)\t1\n",
      "  (707, 156)\t1\n",
      "  (708, 157)\t1\n"
     ]
    }
   ],
   "source": [
    "print(X)"
   ]
  },
  {
   "cell_type": "code",
   "execution_count": 38,
   "metadata": {},
   "outputs": [
    {
     "name": "stdout",
     "output_type": "stream",
     "text": [
      "0      Gershon\n",
      "1        Lantz\n",
      "2        Zaide\n",
      "3       Zalman\n",
      "4       Zindel\n",
      "        ...   \n",
      "704      Aruna\n",
      "705      Ayana\n",
      "706    Basanti\n",
      "707    Bharati\n",
      "708      Bhuma\n",
      "Name: names, Length: 709, dtype: object\n"
     ]
    }
   ],
   "source": [
    "print(Xfeatures)"
   ]
  },
  {
   "cell_type": "code",
   "execution_count": 39,
   "metadata": {},
   "outputs": [
    {
     "data": {
      "image/png": "[encoded data removed]",
      "text/plain": [
       "<Figure size 432x288 with 1 Axes>"
      ]
     },
     "metadata": {
      "needs_background": "light"
     },
     "output_type": "display_data"
    }
   ],
   "source": [
    "plt.scatter(Xfeatures,ylabels,c='red',alpha=0.2,marker='.')\n",
    "plt.xlabel(\"X\")\n",
    "plt.ylabel(\"Y\")\n",
    "plt.show()"
   ]
  },
  {
   "cell_type": "code",
   "execution_count": 40,
   "metadata": {},
   "outputs": [
    {
     "name": "stdout",
     "output_type": "stream",
     "text": [
      "{'gershon': 355, 'lantz': 549, 'zaide': 696, 'zalman': 697, 'zindel': 698, 'bruna': 186, 'kyla': 532, 'alan': 44, 'angus': 75, 'blaan': 164, 'conan': 233, 'fagan': 324, 'kade': 433, 'keefe': 478, 'keegan': 479, 'keeland': 480, 'keenan': 484, 'kennedy': 494, 'kenyon': 497, 'kermit': 501, 'kern': 502, 'kerry': 503, 'kevin': 507, 'kieran': 511, 'kinnel': 514, 'lawler': 556, 'lee': 559, 'lennon': 562, 'lon': 572, 'mackenzie': 585, 'neal': 623, 'parlan': 640, 'phelan': 642, 'regan': 644, 'renny': 645, 'riley': 646, 'riordan': 647, 'rogan': 648, 'rooney': 649, 'rory': 650, 'ryan': 651, 'seamus': 657, 'senach': 659, 'sheehan': 663, 'slevin': 664, 'sloan': 665, 'sullivan': 667, 'sully': 668, 'sweeny': 670, 'tee': 672, 'blaine': 165, 'blair': 166, 'eilis': 309, 'kalene': 456, 'keaira': 475, 'keelty': 481, 'keely': 482, 'keen': 483, 'keitha': 485, 'kellan': 490, 'kennis': 495, 'kevina': 508, 'killian': 512, 'kyna': 533, 'lakyle': 545, 'mab': 584, 'maeryn': 586, 'maille': 590, 'afram': 33, 'arali': 85, 'armani': 95, 'banji': 133, 'chata': 217, 'chiamaka': 219, 'chike': 220, 'dakarai': 247, 'deion': 257, 'deiondre': 258, 'dele': 260, 'dembe': 264, 'denzel': 265, 'dewayne': 270, 'diallo': 274, 'dikembe': 279, 'duante': 295, 'dume': 296, 'ebi': 305, 'essien': 320, 'faraji': 326, 'ibeamaka': 392, 'jamar': 404, 'jayvyn': 408, 'jevonte': 412, 'kabonero': 429, 'kabonesa': 430, 'kadeem': 434, 'kaleb': 453, 'kasi': 472, 'kendis': 493, 'kentay': 496, 'keshawn': 504, 'khalon': 509, 'kofi': 518, 'kwamin': 529, 'kwau': 530, 'kyan': 531, 'kyrone': 534, 'la': 536, 'vonn': 687, 'lado': 539, 'laken': 543, 'lakista': 544, 'lamech': 546, 'lavaughn': 555, 'lebron': 557, 'lisimba': 569, 'ludacris': 576, 'lugono': 578, 'luister': 579, 'aba': 1, 'abeni': 7, 'abiba': 9, 'abmaba': 11, 'aissa': 36, 'ajua': 38, 'akosua': 42, 'arziki': 100, 'asha': 101, 'ashanti': 102, 'ayana': 119, 'baako': 120, 'beyonce': 155, 'bisa': 162, 'cacey': 194, 'cassietta': 210, 'catava': 211, 'chipo': 222, 'cleotha': 229, 'deka': 259, 'delu': 262, 'dericia': 267, 'diara': 276, 'doli': 285, 'aban': 2, 'adan': 22, 'adare': 24, 'aeary': 32, 'avonmore': 117, 'bain': 123, 'bairre': 124, 'ballinamore': 128, 'banagher': 131, 'barry': 139, 'beacan': 144, 'benen': 147, 'bevin': 154, 'boyd': 176, 'braden': 177, 'bram': 178, 'brett': 182, 'brian': 183, 'buzz': 193, 'caedmon': 196, 'caelan': 197, 'calder': 200, 'calhoun': 201, 'atilla': 108, 'dezso': 273, 'dorjan': 290, 'ervin': 317, 'gedeon': 348, 'gerson': 356, 'kada': 432, 'kalman': 459, 'kaplony': 466, 'kapolcs': 467, 'kardos': 469, 'karsa': 470, 'kartal': 471, 'keled': 487, 'keleman': 488, 'kemenes': 491, 'kende': 492, 'kerecsen': 500, 'keve': 506, 'kinga': 513, 'kolos': 519, 'kont': 523, 'kund': 528, 'laborc': 538, 'ladomér': 540, 'lantos': 548, 'lászló': 581, 'lehel': 561, 'lél': 582, 'levente': 565, 'lipót': 567, 'loránd': 574, 'lõrinc': 583, 'medárd': 607, 'megyer': 608, 'menyhért': 610, 'miksa': 613, 'milán': 616, 'mór': 619, 'nándor': 629, 'nyék': 628, 'abelard': 6, 'adie': 26, 'adler': 28, 'adolph': 29, 'alaric': 46, 'albert': 47, 'albrecht': 48, 'alger': 53, 'ancel': 70, 'arland': 93, 'armand': 94, 'arnold': 96, 'avicus': 116, 'baldwin': 127, 'baltasar': 129, 'baron': 138, 'bergen': 150, 'bernard': 151, 'bernstein': 152, 'bertram': 153, 'bingham': 160, 'bogart': 169, 'brandeis': 179, 'bronson': 184, 'bud': 187, 'burke': 189, 'burle': 190, 'carsten': 209, 'clay': 228, 'clovis': 230, 'colbert': 232, 'dagobert': 244, 'dalbert': 248, 'dale': 249, 'derek': 266, 'dewitt': 272, 'dian': 275, 'dieter': 277, 'dietrich': 278, 'dolf': 284, 'drake': 292, 'dutch': 301, 'eberhard': 304, 'anderson': 71, 'axel': 118, 'balder': 126, 'beck': 145, 'burr': 191, 'fiske': 333, 'gustave': 365, 'per': 641, 'akira': 41, 'banko': 135, 'banzan': 136, 'bassui': 142, 'benjiro': 148, 'botan': 175, 'chimon': 221, 'chotan': 225, 'dai': 245, 'in': 394, 'daido': 246, 'doryo': 291, 'engu': 311, 'enki': 312, 'enmei': 313, 'eryu': 318, 'fudoki': 340, 'fujita': 341, 'genko': 351, 'goro': 363, 'hakaku': 368, 'haru': 371, 'hideaki': 374, 'hiromasa': 375, 'hiroshi': 376, 'hisoka': 377, 'hoshi': 383, 'iachima': 391, 'itsu': 397, 'jikai': 414, 'jiro': 418, 'jiryu': 419, 'joben': 421, 'joji': 424, 'agatho': 35, 'amedeo': 61, 'amerigo': 62, 'aretino': 89, 'arrigo': 97, 'attilio': 111, 'benvenuto': 149, 'biondello': 161, 'borachio': 172, 'braulio': 181, 'bronze': 185, 'cajetan': 199, 'carmelo': 207, 'carmine': 208, 'celesto': 212, 'cirrillo': 227, 'constanzo': 236, 'corrado': 239, 'demarco': 263, 'deusdedit': 269, 'donato': 288, 'donus': 289, 'eriberto': 315, 'ermanno': 316, 'ettore': 322, 'falito': 325, 'fiorello': 332, 'flavio': 334, 'fleance': 335, 'floritzel': 336, 'fortino': 338, 'galileo': 344, 'genovese': 352, 'giancarlo': 357, 'gianni': 358, 'gino': 359, 'gioacchino': 360, 'giovanni': 361, 'gratiano': 364, 'honorius': 379, 'hormisdas': 381, 'hortensio': 382, 'indro': 395, 'lombardi': 571, 'marco': 598, 'mariano': 600, 'martino': 602, 'massimo': 603, 'maurizio': 605, 'maury': 606, 'abriana': 15, 'bambi': 130, 'bianca': 158, 'caprice': 203, 'cara': 204, 'carin': 205, 'carlotta': 206, 'cettina': 214, 'contessa': 237, 'domani': 286, 'donatella': 287, 'fabiana': 323, 'fiorella': 331, 'acura': 19, 'audio': 112, 'babyface': 121, 'banjo': 134, 'blaze': 167, 'bono': 171, 'boston': 174, 'butch': 192, 'cola': 231, 'coolio': 238, 'corvette': 240, 'deandre': 254, 'delmonte': 261, 'disney': 281, 'draylan': 293, 'droe': 294, 'durango': 297, 'duras': 298, 'dwalin': 302, 'edsel': 307, 'eminem': 310, 'espn': 319, 'hamaliel': 369, 'harlem': 370, 'hopper': 380, 'hovie': 384, 'hulk': 390, 'jace': 400, 'jaxon': 406, 'jay': 407, 'jeeves': 410, 'kacy': 431, 'kaden': 435, 'kadi': 436, 'kamon': 460, 'kance': 462, 'kaper': 465, 'kateo': 473, 'keandre': 476, 'ketchum': 505, 'khambrel': 510, 'kix': 517, 'koshy': 524, 'koster': 526, 'kyzer': 535, 'lafe': 541, 'lando': 547, 'lariat': 551, 'larnell': 552, 'lassiter': 553, 'apple': 84, 'atlanta': 109, 'blue': 168, 'angel': 74, 'brandie': 180, 'cady': 195, 'camera': 202, 'cricket': 241, 'dannon': 250, 'darena': 251, 'day': 253, 'dimaia': 280, 'dixie': 282, 'easter': 303, 'eternity': 321, 'february': 327, 'fiolla': 330, 'gaeriel': 343, 'geena': 349, 'gentle': 353, 'heavenly': 373, 'iesha': 393, 'jakki': 403, 'jazz': 409, 'jo': 420, 'dee': 255, 'jody': 422, 'joey': 423, 'jojo': 425, 'joni': 426, 'juice': 427, 'kadie': 437, 'kaelyn': 438, 'kailey': 446, 'kaili': 447, 'akamu': 39, 'analu': 66, 'aulii': 113, 'bane': 132, 'eowyn': 314, 'havika': 372, 'kahale': 439, 'kahanu': 440, 'kahoku': 441, 'kaholo': 442, 'kai': 443, 'kaikeapona': 444, 'kaipo': 449, 'kalama': 450, 'kale': 452, 'kalei': 454, 'kaleo': 457, 'kalepa': 458, 'kana': 461, 'kane': 463, 'kanoa': 464, 'kapono': 468, 'keahi': 474, 'keanu': 477, 'kekoa': 486, 'kelii': 489, 'keona': 498, 'kepano': 499, 'konala': 520, 'laakea': 537, 'laionela': 542, 'loe': 570, 'lono': 573, 'lulani': 580, 'maik': 589, 'makaio': 591, 'makan': 592, 'malo': 594, 'manu': 596, 'mauli': 604, 'meka': 609, 'moke': 618, 'nahele': 621, 'nalani': 622, 'okalani': 630, 'oke': 631, 'okelani': 632, 'oliana': 636, 'onaona': 638, 'palani': 639, 'alana': 45, 'aloani': 54, 'aloha': 55, 'alohi': 56, 'alona': 57, 'anani': 67, 'edena': 306, 'haimi': 367, 'iolana': 396, 'kailani': 445, 'kaimi': 448, 'kalani': 451, 'kalena': 455, 'achilles': 18, 'adonis': 30, 'adrian': 31, 'agamemnon': 34, 'ajax': 37, 'alcander': 49, 'alcibiades': 50, 'alexander': 51, 'altair': 58, 'amar': 59, 'ambrose': 60, 'anacletus': 65, 'anastasius': 68, 'anatole': 69, 'andrew': 72, 'andromeda': 73, 'anker': 76, 'anstice': 77, 'antenor': 78, 'anthony': 79, 'antigonus': 80, 'apollo': 82, 'apostolos': 83, 'archelaus': 86, 'archimedes': 87, 'ares': 88, 'argus': 90, 'arion': 91, 'aristide': 92, 'arsenio': 98, 'asmodel': 103, 'aster': 104, 'athan': 105, 'athanasios': 106, 'athos': 107, 'atlas': 110, 'autolocus': 114, 'avel': 115, 'baptiste': 137, 'basil': 141, 'bates': 143, 'bemus': 146, 'bishop': 163, 'caesar': 198, 'lauaki': 554, 'lisiate': 568, 'uhila': 675, 'ulani': 677, 'daeshim': 243, 'jintao': 417, 'seung': 661, 'yong': 692, 'sun': 669, 'young': 693, 'ja': 399, 'jae': 402, 'cho': 223, 'chon': 224, 'aaron': 0, 'abbas': 3, 'abdiel': 4, 'abel': 5, 'abijah': 10, 'abner': 12, 'abraham': 13, 'abrahsa': 14, 'absolom': 16, 'acacio': 17, 'adalai': 20, 'adam': 21, 'adar': 23, 'addai': 25, 'adin': 27, 'an': 64, 'bing': 159, 'chen': 218, 'chung': 226, 'confucius': 234, 'cong': 235, 'deshi': 268, 'dewei': 271, 'fo': 337, 'hai': 366, 'hsing': 386, 'gan': 345, 'gao': 346, 'genjo': 350, 'ho': 378, 'hsin': 385, 'huang': 387, 'fu': 339, 'hui': 388, 'chao': 216, 'huik': 389, 'jiang': 413, 'jin': 415, 'jing': 416, 'jun': 428, 'kong': 521, 'lao': 550, 'tzu': 674, 'cerek': 213, 'dobry': 283, 'gerik': 354, 'jacek': 401, 'jarek': 405, 'lech': 558, 'ludoslaw': 577, 'magnar': 588, 'mandek': 595, 'marcin': 597, 'marek': 599, 'nelek': 624, 'olesia': 634, 'ryzard': 652, 'tanek': 671, 'urjasz': 678, 'boris': 173, 'dusan': 299, 'egor': 308, 'feodore': 329, 'fyodor': 342, 'gavrie': 347, 'gleb': 362, 'ivan': 398, 'konstantin': 522, 'kostas': 525, 'kostya': 527, 'lesta': 564, 'magar': 587, 'maksim': 593, 'mikhail': 612, 'miloslav': 615, 'nikhil': 627, 'oksana': 633, 'olga': 635, 'sacha': 653, 'sarkis': 654, 'semyon': 658, 'sergei': 660, 'timur': 673, 'ulan': 676, 'ustin': 679, 'vadim': 680, 'valeri': 681, 'valerian': 682, 'vanya': 683, 'venedict': 684, 'vladilen': 685, 'vlas': 686, 'wassily': 688, 'xenik': 689, 'yerik': 690, 'yevgeni': 691, 'yurchik': 694, 'yuri': 695, 'akelah': 40, 'alexandrite': 52, 'anya': 81, 'bohdana': 170, 'cyzarine': 242, 'dusana': 300, 'feodora': 328, 'jelena': 411, 'kisa': 515, 'kiska': 516, 'leena': 560, 'lenya': 563, 'lida': 566, 'luba': 575, 'marinka': 601, 'mika': 611, 'mila': 614, 'misha': 617, 'nadie': 620, 'nickita': 625, 'nika': 626, 'olien': 637, 'raissa': 643, 'sashenka': 655, 'savina': 656, 'sezja': 662, 'sonia': 666, 'abhijit': 8, 'alam': 43, 'amit': 63, 'badal': 122, 'bala': 125, 'bukka': 188, 'chandra': 215, 'dattatreya': 252, 'deepak': 256, 'aruna': 99, 'basanti': 140, 'bharati': 156, 'bhuma': 157}\n"
     ]
    }
   ],
   "source": [
    "print(cv.vocabulary_)"
   ]
  },
  {
   "cell_type": "code",
   "execution_count": 41,
   "metadata": {},
   "outputs": [
    {
     "data": {
      "text/plain": [
       "LogisticRegression()"
      ]
     },
     "execution_count": 41,
     "metadata": {},
     "output_type": "execute_result"
    }
   ],
   "source": [
    "logit = LogisticRegression()\n",
    "logit.fit(X,ylabels)"
   ]
  },
  {
   "cell_type": "code",
   "execution_count": 42,
   "metadata": {},
   "outputs": [],
   "source": [
    "testdata =pd.read_csv(r'C:\\Users\\HP\\Downloads\\dataset_for_testing.csv',skipinitialspace=True, usecols=fields_test)    \n",
    "test = testdata.values"
   ]
  },
  {
   "cell_type": "code",
   "execution_count": 43,
   "metadata": {},
   "outputs": [],
   "source": [
    "testdataforcountry=pd.read_csv(r'C:\\Users\\HP\\Downloads\\dataset_for_testing.csv',skipinitialspace=True, usecols=fields_name_test)\n",
    "testforcountry=testdataforcountry.values"
   ]
  },
  {
   "cell_type": "code",
   "execution_count": 44,
   "metadata": {},
   "outputs": [
    {
     "data": {
      "text/html": [
       "<div>\n",
       "<style scoped>\n",
       "    .dataframe tbody tr th:only-of-type {\n",
       "        vertical-align: middle;\n",
       "    }\n",
       "\n",
       "    .dataframe tbody tr th {\n",
       "        vertical-align: top;\n",
       "    }\n",
       "\n",
       "    .dataframe thead th {\n",
       "        text-align: right;\n",
       "    }\n",
       "</style>\n",
       "<table border=\"1\" class=\"dataframe\">\n",
       "  <thead>\n",
       "    <tr style=\"text-align: right;\">\n",
       "      <th></th>\n",
       "      <th>Gender</th>\n",
       "      <th>Age</th>\n",
       "      <th>openness</th>\n",
       "      <th>neuroticism</th>\n",
       "      <th>conscientiousness</th>\n",
       "      <th>agreeableness</th>\n",
       "      <th>extraversion</th>\n",
       "    </tr>\n",
       "  </thead>\n",
       "  <tbody>\n",
       "    <tr>\n",
       "      <th>0</th>\n",
       "      <td>1</td>\n",
       "      <td>20</td>\n",
       "      <td>7</td>\n",
       "      <td>9</td>\n",
       "      <td>9</td>\n",
       "      <td>5</td>\n",
       "      <td>5</td>\n",
       "    </tr>\n",
       "    <tr>\n",
       "      <th>1</th>\n",
       "      <td>0</td>\n",
       "      <td>17</td>\n",
       "      <td>5</td>\n",
       "      <td>4</td>\n",
       "      <td>5</td>\n",
       "      <td>2</td>\n",
       "      <td>4</td>\n",
       "    </tr>\n",
       "    <tr>\n",
       "      <th>2</th>\n",
       "      <td>1</td>\n",
       "      <td>25</td>\n",
       "      <td>5</td>\n",
       "      <td>5</td>\n",
       "      <td>7</td>\n",
       "      <td>2</td>\n",
       "      <td>4</td>\n",
       "    </tr>\n",
       "    <tr>\n",
       "      <th>3</th>\n",
       "      <td>1</td>\n",
       "      <td>18</td>\n",
       "      <td>6</td>\n",
       "      <td>2</td>\n",
       "      <td>7</td>\n",
       "      <td>4</td>\n",
       "      <td>7</td>\n",
       "    </tr>\n",
       "    <tr>\n",
       "      <th>4</th>\n",
       "      <td>1</td>\n",
       "      <td>19</td>\n",
       "      <td>2</td>\n",
       "      <td>4</td>\n",
       "      <td>7</td>\n",
       "      <td>1</td>\n",
       "      <td>3</td>\n",
       "    </tr>\n",
       "  </tbody>\n",
       "</table>\n",
       "</div>"
      ],
      "text/plain": [
       "   Gender  Age  openness  neuroticism  conscientiousness  agreeableness  \\\n",
       "0       1   20         7            9                  9              5   \n",
       "1       0   17         5            4                  5              2   \n",
       "2       1   25         5            5                  7              2   \n",
       "3       1   18         6            2                  7              4   \n",
       "4       1   19         2            4                  7              1   \n",
       "\n",
       "   extraversion  \n",
       "0             5  \n",
       "1             4  \n",
       "2             4  \n",
       "3             7  \n",
       "4             3  "
      ]
     },
     "execution_count": 44,
     "metadata": {},
     "output_type": "execute_result"
    }
   ],
   "source": [
    "testdata.head()"
   ]
  },
  {
   "cell_type": "code",
   "execution_count": 45,
   "metadata": {},
   "outputs": [],
   "source": [
    "df1=pd.DataFrame(test)"
   ]
  },
  {
   "cell_type": "code",
   "execution_count": 46,
   "metadata": {},
   "outputs": [],
   "source": [
    "df2=pd.DataFrame(testforcountry)"
   ]
  },
  {
   "cell_type": "code",
   "execution_count": 47,
   "metadata": {},
   "outputs": [
    {
     "data": {
      "text/html": [
       "<div>\n",
       "<style scoped>\n",
       "    .dataframe tbody tr th:only-of-type {\n",
       "        vertical-align: middle;\n",
       "    }\n",
       "\n",
       "    .dataframe tbody tr th {\n",
       "        vertical-align: top;\n",
       "    }\n",
       "\n",
       "    .dataframe thead th {\n",
       "        text-align: right;\n",
       "    }\n",
       "</style>\n",
       "<table border=\"1\" class=\"dataframe\">\n",
       "  <thead>\n",
       "    <tr style=\"text-align: right;\">\n",
       "      <th></th>\n",
       "      <th>0</th>\n",
       "    </tr>\n",
       "  </thead>\n",
       "  <tbody>\n",
       "    <tr>\n",
       "      <th>0</th>\n",
       "      <td>Leba</td>\n",
       "    </tr>\n",
       "    <tr>\n",
       "      <th>1</th>\n",
       "      <td>Mindel</td>\n",
       "    </tr>\n",
       "    <tr>\n",
       "      <th>2</th>\n",
       "      <td>Shayndel</td>\n",
       "    </tr>\n",
       "    <tr>\n",
       "      <th>3</th>\n",
       "      <td>Syshe</td>\n",
       "    </tr>\n",
       "    <tr>\n",
       "      <th>4</th>\n",
       "      <td>Maisie</td>\n",
       "    </tr>\n",
       "  </tbody>\n",
       "</table>\n",
       "</div>"
      ],
      "text/plain": [
       "          0\n",
       "0      Leba\n",
       "1    Mindel\n",
       "2  Shayndel\n",
       "3     Syshe\n",
       "4    Maisie"
      ]
     },
     "execution_count": 47,
     "metadata": {},
     "output_type": "execute_result"
    }
   ],
   "source": [
    "df2.head()"
   ]
  },
  {
   "cell_type": "code",
   "execution_count": 48,
   "metadata": {},
   "outputs": [
    {
     "name": "stdout",
     "output_type": "stream",
     "text": [
      "[[ 1 20  7 ...  9  5  5]\n",
      " [ 0 17  5 ...  5  2  4]\n",
      " [ 1 25  5 ...  7  2  4]\n",
      " ...\n",
      " [ 0 18  7 ...  6  2  7]\n",
      " [ 0 23  6 ...  5  4  3]\n",
      " [ 1 18  5 ...  3  5  6]]\n"
     ]
    }
   ],
   "source": [
    "testdf =df1[[0,1,2,3,4,5,6]]\n",
    "maintestarray=testdf.values\n",
    "print(maintestarray) "
   ]
  },
  {
   "cell_type": "code",
   "execution_count": 49,
   "metadata": {},
   "outputs": [
    {
     "name": "stdout",
     "output_type": "stream",
     "text": [
      "['Leba' 'Mindel' 'Shayndel' 'Syshe' 'Maisie' 'Meara' 'Meckenzie' 'Myrna'\n",
      " 'Nara' 'Neala' 'Nelia' 'Oona' 'Quinn' 'Rhoswen' 'Riane' 'Riley' 'Rogan'\n",
      " 'Rona' 'Ryan' 'Sadb' 'Shanley' 'Shelagh' 'Sine' 'Siobhan' 'Sorcha'\n",
      " 'Ultreia' 'Ebere' 'Ekua' 'Faizah' 'Fola' 'Gaynelle' 'Habika' 'Hawa'\n",
      " 'Isoke' 'Jendayi' 'Jira' 'Kabibe' 'Kabira' 'Kacela' 'Kacondra' 'Carrick'\n",
      " 'Ciaran' 'Clancy' 'Colin' 'Colm' 'Conall' 'Conner' 'Cormack' 'Craig'\n",
      " 'Cullen' 'Curan' 'Cuyler' 'Dacian' 'Orbán' 'Örkény' 'Ormos' 'Örs'\n",
      " 'Oszlár' 'Bela' 'Kamella' 'Katalin' 'Katoka' 'Klara' 'Klarika' 'Lenci'\n",
      " 'Lilike' 'Lorand' 'Nusa' 'Onella' 'Zigana' 'Junichiro' 'Kado' 'Kaisha'\n",
      " 'Kakumyo' 'Kanaye' 'Kando' 'Kane' 'Kaori' 'Kazuo' 'Keitaro' 'Kentaro'\n",
      " 'Kin' 'Kishi' 'Kisho' 'Kiyoshi' 'Ai' 'Aiko' 'Akako' 'Akanah' 'Aki'\n",
      " 'Akina' 'Akiyama' 'Amarante' 'Amaya' 'Aneko' 'Anzan' 'Anzu' 'Aoi' 'Asa'\n",
      " 'Ayame' 'Bankei' 'Chika' 'Chinshu' 'Chiyo' 'Cho' 'Chorei' 'Dai' 'Eido'\n",
      " 'Etsu' 'Fuyo' 'Gyo Shin' 'Hakue' 'Hama' 'Hanako' 'Haya' 'Hisa' 'Hoshi'\n",
      " 'Ima' 'Ishi' 'Iva' 'Jakushitsu' 'Jimin' 'Giovanna' 'Graziella' 'Ilaria'\n",
      " 'Itala' 'Justina' 'Lanza' 'Lave' 'Liona' 'Luca' 'Lucia' 'Kaley' 'Kalisa'\n",
      " 'Kallan' 'Kallima' 'Kalyn' 'Kameron' 'Kamryn' 'Kandra' 'Kaneesha'\n",
      " 'Kanisha' 'Kaprece' 'Karan' 'Kalia' 'Kalina' 'Kaloni' 'Kamea' 'Kawena'\n",
      " 'Keahi' 'Keala' 'Keandra' 'Keanu' 'Keiki' 'Keilana' 'Kekona' 'Keola'\n",
      " 'Kiana' 'Kiele' 'Kina' 'Kinipela' 'Konane' 'Lahela' 'Lanai' 'Lani'\n",
      " 'Lanikai' 'Leilana' 'Liliha' 'Lilo' 'Loe' 'Lokelani' 'Cancer' 'Carsten'\n",
      " 'Castor' 'Centaurus' 'Charon' 'Acantha' 'Adara' 'Adelpha' 'Adrienne'\n",
      " 'Aegle' 'Afrodite' 'Agape' 'Agata' 'HeeWon' 'Jeong' 'Joo Mi' 'Min' 'Moon'\n",
      " 'Shin' 'Soo' 'Sun' 'Asphar' 'Azariah' 'Barbaras' 'Barnabas' 'Bartholomew'\n",
      " 'Baruch' 'Bates' 'Bela' 'Benaiah' 'Benjamin' 'Benson' 'Aaliyah' 'Aari'\n",
      " 'Aase' 'Abbellonna' 'Abie' 'Abigail' 'Abira' 'Abital' 'Abra' 'Achazia'\n",
      " 'Ada' 'Adamina' 'Adena' 'Affera' 'Afra' 'Lee' 'Lei' 'Li' 'Li-Liang'\n",
      " 'Liang' 'Liko' 'Manchu' 'Ming' 'Niao-ka' 'On' 'Qing-Nan' 'Quon' 'Shen'\n",
      " 'Shing' 'Sun' 'Tung' 'Uang' 'Wang' 'Wen' 'Woo' 'Wu-pen' 'Xi-Wang'\n",
      " 'Xiaoping' 'Xin' 'Xing-fu' 'Yao' 'Ah lam' 'An' 'Bao' 'Chen' 'Chen-chio'\n",
      " 'Chen-tao' 'Chow' 'Chu hua' 'Chun' 'Chyou' 'Da-Shin' 'Da-xia' 'Fai'\n",
      " 'Fang' 'Fang hua' 'Genji' 'Guanyin' 'Hua' 'Hui fang' 'Jing Wei' 'Jun'\n",
      " 'Kimora' 'Le' 'Lee' 'Lei' 'Li' 'Li Hua' 'Li Mei' 'Li Ming' 'Lian' 'Lien'\n",
      " 'Lin' 'Ling' 'Lixue' 'Mee' 'Waclaw' 'Walenty' 'Wlod' 'Wojtek' 'Zarek'\n",
      " 'Zygmunt' 'Danuta' 'Ewa' 'Akuti' 'Alka' 'Aloani' 'Amari' 'Ami' 'Anjali'\n",
      " 'Anuradha' 'Anusha' 'Aparna' 'Aruna' 'Ayana' 'Basanti' 'Bharati' 'Bhuma'\n",
      " 'Bina' 'Bindiya' 'Chandra' 'Charu' 'Chhaya' 'Chitrangda' 'Darshana'\n",
      " 'Deepa' 'Deva' 'Devaki' 'Kiska' 'Leena' 'Lenya' 'Lida']\n"
     ]
    }
   ],
   "source": [
    "testfc=df2[0]\n",
    "maintar=testfc.values\n",
    "print(maintar)"
   ]
  },
  {
   "cell_type": "code",
   "execution_count": 50,
   "metadata": {},
   "outputs": [],
   "source": [
    "vect1 = cv.transform(maintar).toarray()"
   ]
  },
  {
   "cell_type": "code",
   "execution_count": null,
   "metadata": {},
   "outputs": [],
   "source": []
  },
  {
   "cell_type": "code",
   "execution_count": 51,
   "metadata": {},
   "outputs": [
    {
     "name": "stdout",
     "output_type": "stream",
     "text": [
      "(315, 699)\n"
     ]
    }
   ],
   "source": [
    "print(vect1.shape)"
   ]
  },
  {
   "cell_type": "code",
   "execution_count": 52,
   "metadata": {},
   "outputs": [],
   "source": [
    "y1_pred=logit.predict(vect1)"
   ]
  },
  {
   "cell_type": "code",
   "execution_count": 53,
   "metadata": {},
   "outputs": [],
   "source": [
    "y_pred = mul_lr.predict(maintestarray)      \n"
   ]
  },
  {
   "cell_type": "code",
   "execution_count": 55,
   "metadata": {},
   "outputs": [],
   "source": [
    "DF1= pd.DataFrame(y_pred,columns=['Predicted Personality'])\n",
    "DF1.index=DF1.index+1\n",
    "DF2 = pd.DataFrame(y1_pred,columns=['country'])\n",
    "DF2.index=DF2.index+1\n",
    "DF = pd.concat([DF1, DF2], axis=1)\n",
    "\n",
    "DF.index.names = ['Person No']\n",
    "DF.to_csv(\"output.csv\") "
   ]
  },
  {
   "cell_type": "code",
   "execution_count": 57,
   "metadata": {},
   "outputs": [],
   "source": [
    "from sklearn.metrics import accuracy_score"
   ]
  },
  {
   "cell_type": "code",
   "execution_count": 58,
   "metadata": {},
   "outputs": [],
   "source": [
    "from sklearn.model_selection import cross_val_score"
   ]
  },
  {
   "cell_type": "code",
   "execution_count": 59,
   "metadata": {},
   "outputs": [
    {
     "name": "stdout",
     "output_type": "stream",
     "text": [
      "0.1720321931589537\n"
     ]
    }
   ],
   "source": [
    "cv_score=cross_val_score(mul_lr,mainarray,train_y,cv=10)\n",
    "print(cv_score.mean()) "
   ]
  },
  {
   "cell_type": "code",
   "execution_count": null,
   "metadata": {},
   "outputs": [],
   "source": []
  },
  {
   "cell_type": "code",
   "execution_count": null,
   "metadata": {},
   "outputs": [],
   "source": []
  }
 ],
 "metadata": {
  "kernelspec": {
   "display_name": "Python 3",
   "language": "python",
   "name": "python3"
  },
  "language_info": {
   "codemirror_mode": {
    "name": "ipython",
    "version": 3
   },
   "file_extension": ".py",
   "mimetype": "text/x-python",
   "name": "python",
   "nbconvert_exporter": "python",
   "pygments_lexer": "ipython3",
   "version": "3.8.3"
  }
 },
 "nbformat": 4,
 "nbformat_minor": 4
}
